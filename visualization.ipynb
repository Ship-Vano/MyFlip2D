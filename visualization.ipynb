{
 "cells": [
  {
   "cell_type": "code",
   "execution_count": 7,
   "metadata": {},
   "outputs": [
    {
     "ename": "KeyboardInterrupt",
     "evalue": "",
     "output_type": "error",
     "traceback": [
      "\u001b[1;31m---------------------------------------------------------------------------\u001b[0m",
      "\u001b[1;31mKeyboardInterrupt\u001b[0m                         Traceback (most recent call last)",
      "Cell \u001b[1;32mIn[7], line 22\u001b[0m\n\u001b[0;32m     19\u001b[0m \u001b[38;5;66;03m# Load data\u001b[39;00m\n\u001b[0;32m     21\u001b[0m file_path \u001b[38;5;241m=\u001b[39m \u001b[38;5;124m\"\u001b[39m\u001b[38;5;124mD:\u001b[39m\u001b[38;5;130;01m\\\\\u001b[39;00m\u001b[38;5;124mBMSTU\u001b[39m\u001b[38;5;130;01m\\\\\u001b[39;00m\u001b[38;5;124m4 COURSE\u001b[39m\u001b[38;5;130;01m\\\\\u001b[39;00m\u001b[38;5;124mHuawei\u001b[39m\u001b[38;5;130;01m\\\\\u001b[39;00m\u001b[38;5;124mgit\u001b[39m\u001b[38;5;130;01m\\\\\u001b[39;00m\u001b[38;5;124mMyFlip2D\u001b[39m\u001b[38;5;130;01m\\\\\u001b[39;00m\u001b[38;5;124mOutputData\u001b[39m\u001b[38;5;130;01m\\\\\u001b[39;00m\u001b[38;5;124mres.txt\u001b[39m\u001b[38;5;124m\"\u001b[39m\n\u001b[1;32m---> 22\u001b[0m frames \u001b[38;5;241m=\u001b[39m \u001b[43mload_data\u001b[49m\u001b[43m(\u001b[49m\u001b[43mfile_path\u001b[49m\u001b[43m)\u001b[49m\n\u001b[0;32m     23\u001b[0m num_frames \u001b[38;5;241m=\u001b[39m \u001b[38;5;28mlen\u001b[39m(frames)\n\u001b[0;32m     25\u001b[0m \u001b[38;5;66;03m# Set up plot\u001b[39;00m\n",
      "Cell \u001b[1;32mIn[7], line 9\u001b[0m, in \u001b[0;36mload_data\u001b[1;34m(file_path)\u001b[0m\n\u001b[0;32m      7\u001b[0m \u001b[38;5;28;01mwith\u001b[39;00m \u001b[38;5;28mopen\u001b[39m(file_path, \u001b[38;5;124m'\u001b[39m\u001b[38;5;124mr\u001b[39m\u001b[38;5;124m'\u001b[39m) \u001b[38;5;28;01mas\u001b[39;00m file:\n\u001b[0;32m      8\u001b[0m     frames \u001b[38;5;241m=\u001b[39m []\n\u001b[1;32m----> 9\u001b[0m     \u001b[38;5;28;01mfor\u001b[39;00m line \u001b[38;5;129;01min\u001b[39;00m file:\n\u001b[0;32m     10\u001b[0m         points \u001b[38;5;241m=\u001b[39m np\u001b[38;5;241m.\u001b[39mfromstring(line, dtype\u001b[38;5;241m=\u001b[39m\u001b[38;5;28mfloat\u001b[39m, sep\u001b[38;5;241m=\u001b[39m\u001b[38;5;124m'\u001b[39m\u001b[38;5;124m \u001b[39m\u001b[38;5;124m'\u001b[39m)  \u001b[38;5;66;03m# Use whitespace as separator\u001b[39;00m\n\u001b[0;32m     11\u001b[0m         frames\u001b[38;5;241m.\u001b[39mappend(points\u001b[38;5;241m.\u001b[39mreshape(\u001b[38;5;241m-\u001b[39m\u001b[38;5;241m1\u001b[39m, \u001b[38;5;241m2\u001b[39m))  \u001b[38;5;66;03m# Reshape to (N, 2) for x, y pairs\u001b[39;00m\n",
      "File \u001b[1;32mc:\\Users\\Иван\\AppData\\Local\\Programs\\Python\\Python39\\lib\\encodings\\cp1251.py:22\u001b[0m, in \u001b[0;36mIncrementalDecoder.decode\u001b[1;34m(self, input, final)\u001b[0m\n\u001b[0;32m     21\u001b[0m \u001b[38;5;28;01mclass\u001b[39;00m \u001b[38;5;21;01mIncrementalDecoder\u001b[39;00m(codecs\u001b[38;5;241m.\u001b[39mIncrementalDecoder):\n\u001b[1;32m---> 22\u001b[0m     \u001b[38;5;28;01mdef\u001b[39;00m \u001b[38;5;21mdecode\u001b[39m(\u001b[38;5;28mself\u001b[39m, \u001b[38;5;28minput\u001b[39m, final\u001b[38;5;241m=\u001b[39m\u001b[38;5;28;01mFalse\u001b[39;00m):\n\u001b[0;32m     23\u001b[0m         \u001b[38;5;28;01mreturn\u001b[39;00m codecs\u001b[38;5;241m.\u001b[39mcharmap_decode(\u001b[38;5;28minput\u001b[39m,\u001b[38;5;28mself\u001b[39m\u001b[38;5;241m.\u001b[39merrors,decoding_table)[\u001b[38;5;241m0\u001b[39m]\n",
      "\u001b[1;31mKeyboardInterrupt\u001b[0m: "
     ]
    }
   ],
   "source": [
    "import numpy as np\n",
    "import matplotlib.pyplot as plt\n",
    "from matplotlib.animation import FuncAnimation\n",
    "\n",
    "# Load data from file\n",
    "def load_data(file_path):\n",
    "    with open(file_path, 'r') as file:\n",
    "        frames = []\n",
    "        for line in file:\n",
    "            points = np.fromstring(line, dtype=float, sep=' ')  # Use whitespace as separator\n",
    "            frames.append(points.reshape(-1, 2))  # Reshape to (N, 2) for x, y pairs\n",
    "        return frames\n",
    "\n",
    "# Animation update function\n",
    "def update(frame_index):\n",
    "    points.set_offsets(frames[frame_index])\n",
    "    return points,\n",
    "\n",
    "# Load data\n",
    "\n",
    "file_path = \"D:\\\\BMSTU\\\\4 COURSE\\\\Huawei\\\\git\\\\MyFlip2D\\\\OutputData\\\\res.txt\"\n",
    "frames = load_data(file_path)\n",
    "num_frames = len(frames)\n",
    "\n",
    "# Set up plot\n",
    "fig, ax = plt.subplots(figsize=(8, 8))\n",
    "ax.set_xlim(0, 3)  # Adjust based on your data range\n",
    "ax.set_ylim(0, 3)  # Adjust based on your data range\n",
    "points = ax.scatter([], [], s=1, c='blue')  # Initialize scatter plot with small points\n",
    "\n",
    "# Initialize animation\n",
    "ani = FuncAnimation(\n",
    "    fig, update, frames=num_frames, interval=1, blit=True\n",
    ")\n",
    "\n",
    "plt.show()"
   ]
  },
  {
   "cell_type": "code",
   "execution_count": 12,
   "metadata": {},
   "outputs": [],
   "source": [
    "import matplotlib\n",
    "import numpy as np\n",
    "import matplotlib.pyplot as plt\n",
    "from matplotlib.widgets import Slider\n",
    "matplotlib.use('TkAgg')\n",
    "# Function to lazily load a single frame from file\n",
    "def load_frame(file_path, frame_index):\n",
    "    with open(file_path, 'r') as file:\n",
    "        for i, line in enumerate(file):\n",
    "            if i == frame_index:\n",
    "                points = np.fromstring(line, dtype=float, sep=' ')\n",
    "                return points.reshape(-1, 2)  # Reshape to (N, 2) for x, y pairs\n",
    "    raise IndexError(f\"Frame {frame_index} is out of range.\")\n",
    "\n",
    "# Update function for slider\n",
    "def update(val):\n",
    "    frame_index = int(slider.val)  # Get current slider value\n",
    "    frame_data = load_frame(file_path, frame_index)\n",
    "    points.set_offsets(frame_data)\n",
    "    fig.canvas.draw_idle()  # Redraw the canvas\n",
    "\n",
    "# File path\n",
    "file_path = \"D:\\\\BMSTU\\\\4 COURSE\\\\Huawei\\\\git\\\\MyFlip2D\\\\OutputData\\\\res.txt\"\n",
    "\n",
    "# Determine the number of frames by counting lines\n",
    "with open(file_path, 'r') as file:\n",
    "    num_frames = sum(1 for _ in file)\n",
    "\n",
    "# Set up plot\n",
    "fig, ax = plt.subplots(figsize=(8, 8))\n",
    "plt.subplots_adjust(bottom=0.2)  # Make space for the slider\n",
    "ax.set_xlim(0, 3)  # Adjust based on your data range\n",
    "ax.set_ylim(0, 3)  # Adjust based on your data range\n",
    "points = ax.scatter([], [], s=1, c='blue')  # Initialize scatter plot with small points\n",
    "\n",
    "# Add slider for frame control\n",
    "ax_slider = plt.axes([0.2, 0.05, 0.6, 0.03], facecolor='lightgray')  # Slider position\n",
    "slider = Slider(ax_slider, 'Frame', 0, num_frames - 1, valinit=0, valstep=1)\n",
    "\n",
    "# Connect slider to update function\n",
    "slider.on_changed(update)\n",
    "\n",
    "# Initialize with the first frame\n",
    "update(0)\n",
    "\n",
    "plt.show()"
   ]
  },
  {
   "cell_type": "code",
   "execution_count": null,
   "metadata": {},
   "outputs": [],
   "source": []
  }
 ],
 "metadata": {
  "kernelspec": {
   "display_name": "MagnettoPrjct",
   "language": "python",
   "name": "magnettoprjct"
  },
  "language_info": {
   "codemirror_mode": {
    "name": "ipython",
    "version": 3
   },
   "file_extension": ".py",
   "mimetype": "text/x-python",
   "name": "python",
   "nbconvert_exporter": "python",
   "pygments_lexer": "ipython3",
   "version": "3.9.5"
  }
 },
 "nbformat": 4,
 "nbformat_minor": 2
}
